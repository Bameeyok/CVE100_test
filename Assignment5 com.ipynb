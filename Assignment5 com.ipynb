{
 "cells": [
  {
   "cell_type": "code",
   "execution_count": 17,
   "id": "7acd5bfe",
   "metadata": {},
   "outputs": [],
   "source": [
    "class Person:\n",
    "    def __init__(self, name, age):\n",
    "        self.name = name\n",
    "        self.age = age\n",
    "\n",
    "    def display(self):\n",
    "        print(\"name=\", self.name)\n",
    "        print(\"age=\", self.age)\n",
    "\n",
    "class Student(Person):\n",
    "    def __init__(self,name,age):\n",
    "        super(). __init__(name,age)\n",
    "        self.marks={}\n",
    "\n",
    "    def add_marks(self,subject,score):\n",
    "        self.marks[subject] = score\n",
    "\n",
    "    def display_score(self):\n",
    "\n",
    "        print(\"score\",self.marks)\n",
    "\n",
    "    def average(self):\n",
    "        if len(self.marks)!=0:\n",
    "            avg = sum(self.marks.values()) / len (self.marks)\n",
    "            print(\"Average Score=\", avg)\n",
    "        else:\n",
    "            print(\"No score\")\n",
    "  "
   ]
  },
  {
   "cell_type": "code",
   "execution_count": 19,
   "id": "34315dae",
   "metadata": {},
   "outputs": [
    {
     "name": "stdout",
     "output_type": "stream",
     "text": [
      "name= Yok\n",
      "age= 20\n",
      "score {'Math': 60, 'Bio': 75}\n",
      "Average Score= 67.5\n",
      "Average score: None\n"
     ]
    }
   ],
   "source": [
    "Student1 = Student(\"Yok\", 20,)\n",
    "Student1.display()\n",
    "\n",
    "Student1.add_marks(\"Math\", 60)\n",
    "Student1.add_marks(\"Bio\", 75)\n",
    "\n",
    "Student1.display_score()\n",
    "print(f\"Average score: {Student1.average()}\")\n"
   ]
  }
 ],
 "metadata": {
  "kernelspec": {
   "display_name": "Python 3",
   "language": "python",
   "name": "python3"
  },
  "language_info": {
   "codemirror_mode": {
    "name": "ipython",
    "version": 3
   },
   "file_extension": ".py",
   "mimetype": "text/x-python",
   "name": "python",
   "nbconvert_exporter": "python",
   "pygments_lexer": "ipython3",
   "version": "3.9.6"
  }
 },
 "nbformat": 4,
 "nbformat_minor": 5
}
