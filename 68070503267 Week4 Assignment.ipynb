{
 "cells": [
  {
   "cell_type": "markdown",
   "id": "d536d902",
   "metadata": {},
   "source": [
    "# Even and Odd\n",
    "iterate for loop from number 1 to :\n",
    "if the number is even, print \"[number]\" is even\"\n",
    "otherwise, print \"[number] is odd:\n",
    "\n",
    "if n = 5 ==> expected output\n",
    "0 is even.\n",
    "1 is odd.\n",
    "2 is Even.\n",
    "3 is odd.\n",
    "4 is odd.\n",
    "5 is even."
   ]
  },
  {
   "cell_type": "code",
   "execution_count": 18,
   "id": "a419a080",
   "metadata": {},
   "outputs": [
    {
     "name": "stdout",
     "output_type": "stream",
     "text": [
      "1 is odd\n",
      "2 is even\n",
      "3 is odd\n",
      "4 is even\n",
      "5 is odd\n"
     ]
    }
   ],
   "source": [
    "#If with else: check whether a number is even or odd\n",
    "n = 6\n",
    "for i in range(1,n):\n",
    "    if i%2==0:\n",
    "        print(i, \"is even\")\n",
    "    else:\n",
    "        print(i, \"is odd\")"
   ]
  },
  {
   "cell_type": "markdown",
   "id": "f77ee77f",
   "metadata": {},
   "source": [
    "Division\n",
    "- define number n = 100\n",
    "- Use a loop from 1 to 10 (the value of looping veriable is 1 to 10)\n",
    "- if the result of quotient (number/i) is greater than 5 => print (\"The result is large\")\n",
    "- if the result of quotient (number/i) is exactly equal to 6 ==> skip the loop with continue\n",
    "- otherwise, print the actual quotient ==>print (\"quotient=\", quotient)"
   ]
  },
  {
   "cell_type": "code",
   "execution_count": 52,
   "id": "bb4bfe91",
   "metadata": {},
   "outputs": [
    {
     "name": "stdout",
     "output_type": "stream",
     "text": [
      "The result is large\n",
      "The result is large\n",
      "The result is large\n",
      "The result is large\n",
      "quotient= 4.0\n",
      "quotient= 3.3333333333333335\n",
      "quotient= 2.857142857142857\n",
      "quotient= 2.5\n",
      "quotient= 2.2222222222222223\n",
      "quotient= 2.0\n"
     ]
    }
   ],
   "source": [
    "#Print the quotient a number\n",
    "n = 20\n",
    "for i in range(1,11):\n",
    "    if n/i >=5:\n",
    "        print(\"The result is large\")\n",
    "    elif n/i ==6:\n",
    "        continue\n",
    "    else:\n",
    "        print(\"quotient=\", n/i)\n"
   ]
  },
  {
   "cell_type": "markdown",
   "id": "8586a3a6",
   "metadata": {},
   "source": [
    "Login Authentication\n",
    "- Creat a dictionary name \"credentials\" with username as key and password as values.\n",
    "- Initialize the dictionary with three users: (username - userl, password - abc123), (username - admin, password - adminpass, username - guest, password - quest123)\n",
    "- Ask the user to enter a username and password.\n",
    "- If the username exists and the password matches, print (\"login successful\")\n",
    "- If the username exists but the password is wrong, print(\"Incorrect password\")\n",
    "- If the username does not exist, print \"User not found\""
   ]
  },
  {
   "cell_type": "code",
   "execution_count": 70,
   "id": "ec29484f",
   "metadata": {},
   "outputs": [
    {
     "name": "stdout",
     "output_type": "stream",
     "text": [
      "login successful\n"
     ]
    }
   ],
   "source": [
    "credentials = {'userl': 'abc123', 'admin':'adminpass', 'quest': 'quest123'}\n",
    "username = input(\"Enter username\")\n",
    "password = input(\"Enter password\")\n",
    "# if username in credential dictionary\n",
    "    #check whether username and password are equal\n",
    "    #if username and password matches\n",
    "        #print (Login successful)\n",
    "    #else\n",
    "        #print(Incorrect password)\n",
    "#else\n",
    "    #print (User not found)\n",
    "if username in credentials:\n",
    "    if credentials[username] == password:\n",
    "        print('login successful')\n",
    "    else:\n",
    "        print('incorrect password')\n",
    "else:\n",
    "    print(\"User not found\")\n",
    "D = {'userl': 'abc123', 'admin':'adminpass', 'quest': 'quest123'}"
   ]
  },
  {
   "cell_type": "code",
   "execution_count": 59,
   "id": "ef4ce335",
   "metadata": {},
   "outputs": [
    {
     "name": "stdout",
     "output_type": "stream",
     "text": [
      "* * * * * \n",
      "* * * * * \n",
      "* * * * * \n",
      "* * * * * \n",
      "* * * * * \n"
     ]
    }
   ],
   "source": [
    "stars = 5\n",
    "rows = 5\n",
    "for i in range(1, rows+1):\n",
    "    for j in range(1, stars+1):\n",
    "        print(\"*\", end=\" \")\n",
    "    print() # Newline"
   ]
  },
  {
   "cell_type": "markdown",
   "id": "6f5e652c",
   "metadata": {},
   "source": [
    "Shopping Cart checkout\n",
    "Use initial variable total_bill=0\n",
    "If total_bill>=1000, print(\"limit reached. You cannot buy anymore\") and break the loop.\n",
    "Otherwise, ask user to add price"
   ]
  },
  {
   "cell_type": "code",
   "execution_count": 9,
   "id": "f648a762",
   "metadata": {},
   "outputs": [
    {
     "name": "stdout",
     "output_type": "stream",
     "text": [
      "89.0\n",
      "165.0\n",
      "621.0\n",
      "1025.0\n",
      "Limit reached. You cannot buy anymore\n"
     ]
    }
   ],
   "source": [
    "total_bill = 0\n",
    "while total_bill<=1000:\n",
    "    price = float(input('Enter price of the item'))\n",
    "    total_bill=total_bill+price\n",
    "    print(total_bill)\n",
    "    # break\n",
    "print(\"Limit reached. You cannot buy anymore\")\n"
   ]
  }
 ],
 "metadata": {
  "kernelspec": {
   "display_name": "Python 3",
   "language": "python",
   "name": "python3"
  },
  "language_info": {
   "codemirror_mode": {
    "name": "ipython",
    "version": 3
   },
   "file_extension": ".py",
   "mimetype": "text/x-python",
   "name": "python",
   "nbconvert_exporter": "python",
   "pygments_lexer": "ipython3",
   "version": "3.9.6"
  }
 },
 "nbformat": 4,
 "nbformat_minor": 5
}
